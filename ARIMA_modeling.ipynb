{
 "cells": [
  {
   "cell_type": "code",
   "execution_count": null,
   "metadata": {},
   "outputs": [],
   "source": []
  }
 ],
 "metadata": {
  "kernelspec": {
   "display_name": "Python 3.7.5 64-bit",
   "language": "python",
   "name": "python37564bitb1970ca70d7f4770ba3afbf0950506d9"
  }
 },
 "nbformat": 4,
 "nbformat_minor": 4
}
